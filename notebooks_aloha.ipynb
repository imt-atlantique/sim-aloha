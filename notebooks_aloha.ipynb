{
  "cells": [
    {
      "cell_type": "code",
      "execution_count": null,
      "id": "fab93b8c",
      "metadata": {},
      "outputs": [],
      "source": []
    },
    {
      "cell_type": "markdown",
      "id": "e63b4474",
      "metadata": {},
      "source": [
        "# Aloha\n",
        "\n",
        "This is a short introduction to Aloha, a simple and yet interesting way to access a shared medium of communication.\n",
        "\n",
        "Aloha is probably the simplest protocol to regulate the access to a shared medium. When a station needs to send a frame, it simply starts the transmission (without checking if the channel is busy). The price of the simplicity is that it does not support a high level of traffic.\n",
        "\n",
        "In this part, we will study the performance of the protocol in two forms: pure Aloha and slotted aloha. The difference between the two versions is the synchronization between the nodes: in slotted aloha, the time is divided in slots, usually the time of a frame, and the start of a transmission can only take place at the beginning of a time slot.\n"
      ]
    },
    {
      "cell_type": "markdown",
      "id": "78c25b98",
      "metadata": {},
      "source": [
        "\n",
        "## Pure Aloha\n",
        "\n",
        "In pure Aloha, nodes are not synchronized, and start sending a frame whenever they have one to send. A frame is considered to be successfully sent if there is no collision, i.e. there is only this frame on the channel; On the contrary, if two or more nodes in the system are sending a frame at the same moment, there will be a collision, and none of the frame will be received successfully (yes it is a simplification, in reality, one frame can still be received depending on the signal strength, but in the context of this exercice, we will consider that none of the colliding frames can be correctly received). Note also that here we ignore other errors such as interferences.\n",
        "\n",
        "Let us now consider a few scenarios.\n",
        "<figure>\n",
        "<img src=\"images/figures.001.png\" width=400 />\n",
        "<figcaption>Figure 1: 2 successfull transmissions</figcaption>\n",
        "<br>\n",
        "<img src=\"images/figures.002.png\" width=400 />\n",
        "<figcaption>Figure 2: 2 frames in collision</figcaption>\n",
        "</figure>\n",
        "\n",
        "\n",
        "\n",
        "Figure 1 describes the successful transmission of two frames by two different nodes.\n",
        "\n",
        "Figure 2 describes a collision. We can see that node 2 is starting its transmission while node 1 was still sending its frame. Note that a partial overlap between two frames is enough to consider that the two frames are in collision, and thus lost. This might not always be the case in reality, but this is the hypothesis we will make all along this document.\n"
      ]
    },
    {
      "cell_type": "markdown",
      "id": "fc6b9640",
      "metadata": {},
      "source": [
        "\n",
        ">**Questions**\n",
        "\n",
        "<figure>\n",
        "<img src=\"images/figures.003.png\" width=800 />\n",
        "<figcaption>Figure 3: example scenario</figcaption>\n",
        "</figure>\n",
        "\n",
        "> Q1. In the example illustrated in Figure 3, how many frames are in collision?\n"
      ]
    },
    {
      "cell_type": "markdown",
      "id": "bdb013e8",
      "metadata": {},
      "source": []
    },
    {
      "cell_type": "markdown",
      "id": "e0586ac4",
      "metadata": {},
      "source": [
        ">**Answer Q1**\n",
        "There are 4 frames in collision, as shown in this figure:\n",
        "<figure>\n",
        "<img src=\"images/figures.003bis.png\" width=800 />\n",
        "<figcaption>Figure 3: example scenario</figcaption>\n",
        "</figure>"
      ]
    },
    {
      "cell_type": "markdown",
      "id": "f1b70d7e",
      "metadata": {},
      "source": [
        "\n",
        "> Q2. In the example illustrated in Figure 3, how many frames are successfull?\n"
      ]
    },
    {
      "cell_type": "markdown",
      "id": "59df2661",
      "metadata": {},
      "source": []
    },
    {
      "cell_type": "markdown",
      "id": "a69d6436",
      "metadata": {},
      "source": [
        ">**Answer Q2**\n",
        "There are 2 successfull frames (see Fig 3bis in the Answer to quetions 1)"
      ]
    },
    {
      "cell_type": "markdown",
      "id": "59c6ce31",
      "metadata": {},
      "source": [
        "\n",
        "> Q3. In the example illustrated in Figure 3, how many collision periods are there?\n"
      ]
    },
    {
      "cell_type": "markdown",
      "id": "6b546efb",
      "metadata": {},
      "source": []
    },
    {
      "cell_type": "markdown",
      "id": "01d047e5",
      "metadata": {},
      "source": [
        ">**Answer Q3**\n",
        "There are 2 collision periods (see Fig 3bis in the Answer to quetions 1)"
      ]
    },
    {
      "cell_type": "markdown",
      "id": "a4f81f6c",
      "metadata": {},
      "source": [
        "## Vulnerable time\n",
        "\n",
        "Let us now focus on the collision / success probabilities. From the point of view of a sender, we call vulnerable time, the time window in which if a neighbor starts sending a frame, there is going to be a collision. For example, considering a frame is sent at t0 and the sending time is T, if another node is starting to send its own frame at t0 + T/2, there will be a collision, as presented in figure 2.\n"
      ]
    },
    {
      "cell_type": "markdown",
      "id": "490a9407",
      "metadata": {},
      "source": [
        "\n",
        ">**Questions**\n",
        "\n",
        "<figure>\n",
        "<img src=\"images/figures.004.png\" width=600 />\n",
        "<figcaption>Figure 4: Vulnerable time</figcaption>\n",
        "</figure>\n",
        "\n",
        "Using Figure 4, in which we focus on **the frame sent by node 3**,\n",
        "\n",
        "> Q4. When do the vulnerable time starts? (t1, t2, t3, t4, t5, t6 or t7)\n"
      ]
    },
    {
      "cell_type": "markdown",
      "id": "776369fe",
      "metadata": {},
      "source": []
    },
    {
      "cell_type": "markdown",
      "id": "99881524",
      "metadata": {},
      "source": [
        "\n",
        "> Q5. When do the vulnerable time ends? ((t1, t2, t3, t4, t5, t6, or t7)\n"
      ]
    },
    {
      "cell_type": "markdown",
      "id": "d924cf85",
      "metadata": {},
      "source": []
    },
    {
      "cell_type": "markdown",
      "id": "17da7077",
      "metadata": {},
      "source": [
        "\n",
        "> Q6. What is the length of the vulnerable time, as a function of T?\n"
      ]
    },
    {
      "cell_type": "markdown",
      "id": "dcdb5470",
      "metadata": {},
      "source": []
    },
    {
      "cell_type": "markdown",
      "id": "6f04fe10",
      "metadata": {},
      "source": [
        "\n",
        "## Generated traffic and network accuracy\n",
        "\n",
        "We call ___generated traffic___ the traffic that all nodes in the considered system want to inject. Usually we model this traffic by a Poisson law. What is important to note here, is the following parameters:\n",
        "* g, the average number of frames generated per second, and\n",
        "* G = gT, the average time of generated frames.\n",
        "\n",
        "When G > 1, there is not enough time to send all generated frames.\n",
        "\n",
        "When G = 1, if all nodes were perfectly synchronized and each node would send just after another node, the traffic could be successfully sent. In reality, it is very hard to achieve this efficiency.\n",
        "\n",
        "When G < 1, the traffic could be successfully sent, but just as in the previous case, the proportion of successful frames depends on the algorithm to access the channel.\n",
        "\n",
        "In order to measure the algorithm efficiency, we measure the percentage of time the channel is used to transport a successful frame. We write S this metric, also called ___network accuracy___.\n",
        "\n",
        "So if we reach S = 1, it means that the channel is always used with successful frames, without collision, and without periods of time when the channel empty. S cannot be bigger than 1. S = 0 means that the channel is never used to transmit successful frames, so it means that there are only collisions, or idle times.\n",
        "\n",
        "<figure>\n",
        "<img src=\"images/figures.005.png\" width=600 style=\"center\"/>\n",
        "<figcaption>Figure 5: 2 successfull transmisions during 3 periods, S = 2/3</figcaption>\n",
        "</figure>\n",
        "\n",
        "For example, in figure 5, between [t1;t4] we have 2 frames that are successfully sent, and the channel is busy during the remaining time (T). So the channel is used for successful frames during 2T. So S = 2T/3T = 2/3. \n"
      ]
    },
    {
      "cell_type": "markdown",
      "id": "b922519b",
      "metadata": {},
      "source": [
        "\n",
        ">**Questions**\n",
        "\n",
        "<figure>\n",
        "<img src=\"images/figures.006.png\" width=600 />\n",
        "<figcaption>Figure 6</figcaption>\n",
        "</figure>\n",
        "\n",
        "> Q7. In figure 6, what is the value of S considering the interval [t1;t4]?\n"
      ]
    },
    {
      "cell_type": "markdown",
      "id": "dc087db7",
      "metadata": {},
      "source": []
    },
    {
      "cell_type": "markdown",
      "id": "7b7002c0",
      "metadata": {},
      "source": [
        "\n",
        "<figure>\n",
        "<img src=\"images/figures.007.png\" width=600 />\n",
        "<figcaption>Figure 7</figcaption>\n",
        "</figure>\n",
        "\n",
        "> Q8. In figure 7, what is the value of S considering the interval [t1;t4]?\n"
      ]
    },
    {
      "cell_type": "markdown",
      "id": "d9ac8505",
      "metadata": {},
      "source": []
    },
    {
      "cell_type": "markdown",
      "id": "db59f5c7",
      "metadata": {},
      "source": [
        "\n",
        "<figure>\n",
        "<img src=\"images/figures.008.png\" width=600 />\n",
        "<figcaption>Figure 8</figcaption>\n",
        "</figure>\n",
        "\n",
        "> Q9. In figure 8, what is the value of S considering the interval [t1;t4]?"
      ]
    },
    {
      "cell_type": "markdown",
      "id": "f5e3d3f3",
      "metadata": {},
      "source": []
    },
    {
      "cell_type": "markdown",
      "id": "4990334e-ca69-4fd0-8335-3e887b1258ed",
      "metadata": {
        "tags": []
      },
      "source": [
        "## Let's play!\n",
        "\n",
        "The following program simulate a system of nodes that are using Aloha. We make the hypothesis that the number of nodes is large. For seek of simplicity, we do not distinguish the different nodes in the system, so we simulate a given number of frames in the system, and we just check whether a frame is sent at the same time than another one (more precisely, we check if two consecutive frames overlap). The general concept of the code is to manipulate an array containing the time between the beginning of two consecutive frames.\n",
        "\n",
        "Important notice: the time indicating the beginning of a new frame is the time interval from the last frame beginning and the new transmission. Thus it is the delay between two starting of two consecutive frames.\n",
        "\n",
        "Let us first simulate the three last scenarios above.\n",
        "To do that, we need to properly configure the time between frames. By default, the code is configured to play Fig 6, which means that the array containing the delay between each start of frames is:\n",
        "timeInterval = [0, T, T]\n"
      ]
    },
    {
      "cell_type": "markdown",
      "id": "c28b68cb",
      "metadata": {},
      "source": [
        "\n",
        ">**Question**\n",
        "\n",
        "> Q10. Run the code and read the value of S at the issue of the simulation.\n",
        "\n",
        "\n",
        "\n"
      ]
    },
    {
      "cell_type": "markdown",
      "id": "b423278a",
      "metadata": {},
      "source": []
    },
    {
      "cell_type": "code",
      "execution_count": null,
      "id": "fe55883a-6887-43dd-9498-5333a51799e2",
      "metadata": {
        "tags": [],
        "trusted": true
      },
      "outputs": [],
      "source": [
        "import math\n",
        "import numpy as np\n",
        "import random\n",
        "import matplotlib.pyplot as pl\n",
        "\n",
        "################## PARAMETERS ##################\n",
        "#Frame Duration\n",
        "T = 1.\n",
        "#Array that contain the time between each beginning of frames\n",
        "timeInterval = [0, T, T]\n",
        "#Number of frame generated for the system\n",
        "nbFrame = len(timeInterval)\n",
        "################################################\n",
        "\n",
        "\n",
        "#Count the number of success\n",
        "success = 0\n",
        "#Count the number of collisions\n",
        "collision = 0\n",
        "\n",
        "#True when there is an ongoing collision\n",
        "activeCollision = False\n",
        "#Account the time of the simulation\n",
        "time = 0\n",
        "\n",
        "for i in range(nbFrame):\n",
        "    time += timeInterval[i]\n",
        "    if (i+1) < len(timeInterval) and timeInterval[i+1] < T :\n",
        "        #Then it is a collision (we only count one collision whatever the number of frames that collide)\n",
        "        if not activeCollision :\n",
        "            collision += 1\n",
        "            activeCollision = True\n",
        "    else :\n",
        "        if not activeCollision :\n",
        "            success += 1\n",
        "        activeCollision = False\n",
        "\n",
        "#We divide by time+T because we did not count the last frame in time.\n",
        "print(\"There were \" + str(nbFrame) + \" frames sent in \" + str(time+T))\n",
        "success = success * T / (time+T)\n",
        "collision = collision * T / (time+T)\n",
        "print(\"S = \" + str(success))\n"
      ]
    },
    {
      "cell_type": "markdown",
      "id": "74a1b952-83fa-48d1-9d46-06f2834ec7e1",
      "metadata": {},
      "source": [
        ">**Questions**\n",
        "\n",
        "> Q11. Now change the timeInterval array in the code to match the scenario of Fig. 7. Please give this array:\n"
      ]
    },
    {
      "cell_type": "markdown",
      "id": "7d1e3d0f",
      "metadata": {},
      "source": []
    },
    {
      "cell_type": "markdown",
      "id": "a1a00ee7",
      "metadata": {},
      "source": [
        "\n",
        "> Q12. Now run the code and give the value of S: \n"
      ]
    },
    {
      "cell_type": "markdown",
      "id": "180b9379",
      "metadata": {},
      "source": []
    },
    {
      "cell_type": "markdown",
      "id": "2c0904aa",
      "metadata": {},
      "source": [
        "\n",
        "> Q13. Now change the timeInterval array in the code to match the scenario of Fig. 8. Please give this array:\n"
      ]
    },
    {
      "cell_type": "markdown",
      "id": "2e1b5a8e",
      "metadata": {},
      "source": []
    },
    {
      "cell_type": "markdown",
      "id": "497cbf98",
      "metadata": {},
      "source": [
        "\n",
        "> Q14. Now run the code and give the value of S: "
      ]
    },
    {
      "cell_type": "markdown",
      "id": "d4674a94",
      "metadata": {},
      "source": []
    },
    {
      "cell_type": "markdown",
      "id": "87629c2b-2cac-41e7-9418-aaa6deb779d8",
      "metadata": {},
      "source": [
        "## Larger simulations\n",
        "\n",
        "Now in order to run larger simulations, let us use random numbers to fill the timeInterval array used to store the delay between each frame. The traffic is generated following a Poisson Law, with parameter **g, the average number of generated frames**. So the traffic load is [**G = gT**]. So you can configure the following parameters:\n",
        "- G between 0 and any numbers, e.g. 0.1. (remember that G>1 implies more traffic than it is possible to send)\n",
        "- nbFrame which represents how many frames you want to simulate (e.g., 1000)\n",
        "\n",
        "Run the simulation below (with G = 0.1 and nbFrame = 1000)."
      ]
    },
    {
      "cell_type": "code",
      "execution_count": null,
      "id": "752083c4-ad3c-481b-8fb4-3a822c78280d",
      "metadata": {
        "trusted": true
      },
      "outputs": [],
      "source": [
        "import math\n",
        "import numpy as np\n",
        "import random\n",
        "import matplotlib.pyplot as pl\n",
        "\n",
        "################## PARAMETERS ##################\n",
        "#Frame Duration\n",
        "T = 1.\n",
        "#Input traffic duration - G = 1 when there is always one frame to send.\n",
        "G = [0.1]\n",
        "#Number of frame generated for the system\n",
        "nbFrame = 1000\n",
        "#True to generate the plot.\n",
        "\n",
        "################################################\n",
        "\n",
        "\n",
        "#Count the number of success\n",
        "success = []\n",
        "#Count the number of collisions\n",
        "collision = []\n",
        "\n",
        "random.seed()\n",
        "\n",
        "#used for success[] and collisions[]\n",
        "index = 0\n",
        "\n",
        "#For each input traffic, we calculate the channel occupancy time with successfull frames\n",
        "for j in G :\n",
        "    #print(\"G = \" + str(j))\n",
        "    #time interval between each starting of a frame.\n",
        "    g = j / T\n",
        "    success.append(0)\n",
        "    #count the number of collisions\n",
        "    collision.append(0)\n",
        "    #True when there is an ongoing collision\n",
        "    activeCollision = False\n",
        "    #Account the time of the simulation\n",
        "    time = 0\n",
        "    #We pick the time between two consecutive transmissions\n",
        "    timeInterval = np.random.exponential((1/g), nbFrame)\n",
        "\n",
        "    #for i in range(len(timeInterval)-1):\n",
        "    #We stop after nbFrame have been sent (to avoid quasi infinite loop because of the retransmission)\n",
        "    for i in range(nbFrame):\n",
        "        time += timeInterval[i]\n",
        "        if (i+1) < len(timeInterval) and timeInterval[i+1] < T :\n",
        "            #Then it is a collision (we only count one collision whatever the number of frames that collide)\n",
        "            if not activeCollision :\n",
        "                collision[index] += 1\n",
        "                activeCollision = True\n",
        "        else :\n",
        "            if not activeCollision :\n",
        "                success[index] += 1\n",
        "                #print(success[index])\n",
        "            activeCollision = False\n",
        "\n",
        "    #We divide by time+T because we did not count the last frame in time.\n",
        "    print(time+T)\n",
        "    success[index] = success[index] * T / (time+T)\n",
        "    collision[index] = collision[index] * T / (time+T)\n",
        "    print(\"S = \" + str(success[index]))\n",
        "    #Index of the success tab.\n",
        "    index += 1\n"
      ]
    },
    {
      "cell_type": "markdown",
      "id": "f1cad390-b98d-403d-8ad4-17f3af8f9a9b",
      "metadata": {},
      "source": [
        ">**Question**\n",
        "\n",
        "> Q15. Give the value of S ?"
      ]
    },
    {
      "cell_type": "markdown",
      "id": "b1a3b61d",
      "metadata": {},
      "source": []
    },
    {
      "cell_type": "markdown",
      "id": "363f7a68",
      "metadata": {},
      "source": [
        "\n",
        "Now we will try other value for G, let us increase it, run the simulation and then give the value of S for the following values of G: \n",
        "\n",
        "> Q16.  G = [0.15] => S ="
      ]
    },
    {
      "cell_type": "markdown",
      "id": "ae4210d0",
      "metadata": {},
      "source": []
    },
    {
      "cell_type": "markdown",
      "id": "b0a6c24f",
      "metadata": {},
      "source": [
        "> Q17. G = [0.2] => S = "
      ]
    },
    {
      "cell_type": "markdown",
      "id": "1ed9f6f9",
      "metadata": {},
      "source": []
    },
    {
      "cell_type": "markdown",
      "id": "8640ebcf",
      "metadata": {},
      "source": [
        "> Q18. G = [0.8] => S = "
      ]
    },
    {
      "cell_type": "markdown",
      "id": "7d9850fa",
      "metadata": {},
      "source": []
    },
    {
      "cell_type": "markdown",
      "id": "edf3da85-2b5f-4d07-bffd-b3fc15962e49",
      "metadata": {},
      "source": [
        "## Plots\n",
        "\n",
        "Now to allow to better see the performance of the system for different values of traffic load, let us make G varies from 0 to 1, and plot the result (S).\n",
        "Run the code below to plot this scenario."
      ]
    },
    {
      "cell_type": "code",
      "execution_count": null,
      "id": "fe2411e2-98c5-4f25-938b-414aecf6d30d",
      "metadata": {
        "trusted": true
      },
      "outputs": [],
      "source": [
        "import math\n",
        "import numpy as np\n",
        "import random\n",
        "import matplotlib.pyplot as pl\n",
        "\n",
        "################## PARAMETERS ##################\n",
        "#Frame Duration\n",
        "T = 1.\n",
        "#Maximum traffic load (G)\n",
        "maxG = 1\n",
        "#Input traffic duration - G = 1 when there is always one frame to send.\n",
        "G = [i / 100 for i in range(1, maxG*100, 1)]\n",
        "#True if Aloha slotted\n",
        "slotted = False\n",
        "#Number of frame generated for the system\n",
        "nbFrame = 1000\n",
        "#True to generate the plot.\n",
        "doIPlot = True\n",
        "#Plot the occupancy of the channel by collisions?\n",
        "plotCollision = False\n",
        "\n",
        "################################################\n",
        "\n",
        "\n",
        "#Count the number of success\n",
        "success = []\n",
        "#Count the number of collisions\n",
        "collision = []\n",
        "\n",
        "random.seed()\n",
        "\n",
        "#used for success[] and collisions[]\n",
        "index = 0\n",
        "\n",
        "#For each input traffic, we calculate the channel occupancy time with successfull frames\n",
        "for j in G :\n",
        "    #print(\"G = \" + str(j))\n",
        "    #time interval between each starting of a frame.\n",
        "    g = j / T\n",
        "    success.append(0)\n",
        "    #count the number of collisions\n",
        "    collision.append(0)\n",
        "    #True when there is an ongoing collision\n",
        "    activeCollision = False\n",
        "    #Account the time of the simulation\n",
        "    time = 0\n",
        "    #We pick the time between two consecutive transmissions\n",
        "    timeInterval = np.random.exponential((1/g), nbFrame)\n",
        "    #If we use the slotted version, we shift the beginning of the transmission at the beginning of each timeslot (a timeslot is the size of a frame)\n",
        "    if slotted :\n",
        "        total = timeInterval[0]\n",
        "        timeInterval[0] = previous = total // T * T + T\n",
        "        for l in range (1, len(timeInterval)) :\n",
        "            total += timeInterval[l]\n",
        "            temp = total // T * T + T\n",
        "            timeInterval[l] = temp - previous\n",
        "            previous = temp\n",
        "\n",
        "    #for i in range(len(timeInterval)-1):\n",
        "    #We stop after nbFrame have been sent (to avoid quasi infinite loop because of the retransmission)\n",
        "    for i in range(nbFrame):\n",
        "        time += timeInterval[i]\n",
        "        if (i+1) < len(timeInterval) and timeInterval[i+1] < T :\n",
        "            #Then it is a collision (we only count one collision whatever the number of frames that collide)\n",
        "            if not activeCollision :\n",
        "                collision[index] += 1\n",
        "                activeCollision = True\n",
        "        else :\n",
        "            if not activeCollision :\n",
        "                success[index] += 1\n",
        "            activeCollision = False\n",
        "\n",
        "    success[index] = success[index] * T / (time+T)\n",
        "    collision[index] = collision[index] * T / (time+T)\n",
        "    #Index of the success tab.\n",
        "    index += 1\n",
        "\n",
        "if doIPlot :\n",
        "    pl.plot(G, success, 'b')\n",
        "    if plotCollision :\n",
        "        pl.plot(G, collision, 'r')\n",
        "    pl.xlabel('Traffic Load')\n",
        "    pl.ylabel('Network accuracy')\n",
        "    pl.show()\n"
      ]
    },
    {
      "cell_type": "markdown",
      "id": "ebd0f0f1-7619-4287-98aa-c43255bfe4ca",
      "metadata": {},
      "source": [
        "> **Question**\n",
        "\n",
        "> Q19. Can you comment this plot?"
      ]
    },
    {
      "cell_type": "markdown",
      "id": "7d954c32",
      "metadata": {},
      "source": []
    },
    {
      "cell_type": "markdown",
      "id": "cf8be298",
      "metadata": {},
      "source": [
        "\n",
        "Now, you can smooth the plot by simulating more frames?\n",
        "\n",
        "Can you change in the code the number of frames to be 10000 ([nbFrame = 10000]) or even 100000."
      ]
    },
    {
      "cell_type": "markdown",
      "id": "d814ee95",
      "metadata": {},
      "source": [
        "> **Question**\n",
        "\n",
        "> Q20. What is the maximum network accuracy you observe?\n"
      ]
    },
    {
      "cell_type": "markdown",
      "id": "c78113b2",
      "metadata": {},
      "source": []
    },
    {
      "cell_type": "markdown",
      "id": "411cf69f",
      "metadata": {},
      "source": [
        "\n",
        "Now, you can change the maximum value of G to be 5 ([max = 5] in the code), so you will simulate different traffic load, from 0.1 to 5. Keep [nbFrame = 10000] to keep a reasonable simulation time. Run the code."
      ]
    },
    {
      "cell_type": "markdown",
      "id": "36427b72",
      "metadata": {},
      "source": [
        "\n",
        ">**Question**\n",
        "\n",
        "> Q21. Can you commment this plot?"
      ]
    },
    {
      "cell_type": "markdown",
      "id": "25d5d37a",
      "metadata": {},
      "source": []
    },
    {
      "cell_type": "markdown",
      "id": "0027501b",
      "metadata": {},
      "source": [
        "\n",
        "Now if you set the boolean plotCollision to True, i.e., [plotCollision = True] in the code, you will plot in red the channel occupancy time with collisions."
      ]
    },
    {
      "cell_type": "markdown",
      "id": "8310e112",
      "metadata": {},
      "source": [
        "\n",
        ">**Question**\n",
        "\n",
        "> Q22. Can you comment the form of the collision in comparison with the one of S the network accuracy?"
      ]
    },
    {
      "cell_type": "markdown",
      "id": "f737da76",
      "metadata": {},
      "source": []
    },
    {
      "cell_type": "markdown",
      "id": "b36246ee-3f84-4304-88c0-e3747292def9",
      "metadata": {},
      "source": [
        "## Slotted Aloha\n",
        "\n",
        "In slotted Aloha, the time is divided into slottime, and these slottime are precisely the size of a frame. The only additional rule compared to unslotted Aloha is that a frame can only be sent at the beginning of a time slot. Thus, a node willing to transmit a frame should wait for the beginning of a slotime to start transmitting."
      ]
    },
    {
      "cell_type": "markdown",
      "metadata": {},
      "source": [
        "> **Question**\n",
        "<figure>\n",
        "<img src=\"images/figures.004.png\" width=600 />\n",
        "<figcaption>Figure 4: Vulnerable time</figcaption>\n",
        "</figure>\n",
        "\n",
        "\n",
        "> In the example of the previous figure 4, which is again displayed above, considering node 3 which is sending a frame in green, can you tell:"
      ]
    },
    {
      "cell_type": "markdown",
      "id": "c47e8d7c",
      "metadata": {},
      "source": [
        "> Q23. Is it possible that node 1 was sending the frame as presented in the Figure. If not, please indicate at which time (ti) this frame should have been sent."
      ]
    },
    {
      "cell_type": "markdown",
      "id": "5ba7fcc6",
      "metadata": {},
      "source": []
    },
    {
      "cell_type": "markdown",
      "id": "c47e8d7c",
      "metadata": {},
      "source": [
        "> Q24. Is it possible that node 2 is sending the frame as presented in the Figure. If not, please indicate at which time (ti) this frame should have been sent."
      ]
    },
    {
      "cell_type": "markdown",
      "id": "4ad44feb",
      "metadata": {},
      "source": []
    },
    {
      "cell_type": "markdown",
      "id": "c47e8d7c",
      "metadata": {},
      "source": [
        "> Q25. Is it possible that node 4 is sending the frame as presented in the Figure. If not, please indicate at which time (ti) this frame should have been sent."
      ]
    },
    {
      "cell_type": "markdown",
      "id": "e582897f",
      "metadata": {},
      "source": []
    },
    {
      "cell_type": "markdown",
      "id": "ae48e37c",
      "metadata": {},
      "source": [
        "> Q26. Helping you with the figure, can you tell how long is the vulnerable time (as a function of T)? (And compare it to the unslotted aloha vulnerable time, is it the same, smaller or greater?)"
      ]
    },
    {
      "cell_type": "markdown",
      "id": "785fc376",
      "metadata": {},
      "source": []
    },
    {
      "cell_type": "markdown",
      "id": "3ad478d7",
      "metadata": {},
      "source": [
        "Run the following code which is configured to run the slotted Aloha version (boolean <slotted = True>)"
      ]
    },
    {
      "cell_type": "code",
      "execution_count": null,
      "id": "5569d919-6cee-45ab-b70d-2049f7d392ba",
      "metadata": {},
      "outputs": [],
      "source": [
        "import math\n",
        "import numpy as np\n",
        "import random\n",
        "import matplotlib.pyplot as pl\n",
        "\n",
        "################## PARAMETERS ##################\n",
        "#Frame Duration\n",
        "T = 1.\n",
        "#Maximum traffic load (G)\n",
        "maxG = 5\n",
        "#Input traffic duration - G = 1 when there is always one frame to send.\n",
        "G = [i / 100 for i in range(1, maxG*100, 1)]\n",
        "#True if Aloha slotted\n",
        "slotted = True\n",
        "#Number of frame generated for the system\n",
        "nbFrame = 1000\n",
        "#True to generate the plot.\n",
        "doIPlot = True\n",
        "#Plot the occupancy of the channel by collisions?\n",
        "plotCollision = False\n",
        "\n",
        "################################################\n",
        "\n",
        "\n",
        "#Count the number of success\n",
        "success = []\n",
        "#Count the number of collisions\n",
        "collision = []\n",
        "\n",
        "random.seed()\n",
        "\n",
        "#used for success[] and collisions[]\n",
        "index = 0\n",
        "\n",
        "#For each input traffic, we calculate the channel occupancy time with successfull frames\n",
        "for j in G :\n",
        "    #print(\"G = \" + str(j))\n",
        "    #time interval between each starting of a frame.\n",
        "    g = j / T\n",
        "    success.append(0)\n",
        "    #count the number of collisions\n",
        "    collision.append(0)\n",
        "    #True when there is an ongoing collision\n",
        "    activeCollision = False\n",
        "    #Account the time of the simulation\n",
        "    time = 0\n",
        "    #We pick the time between two consecutive transmissions\n",
        "    timeInterval = np.random.exponential((1/g), nbFrame)\n",
        "    #If we use the slotted version, we shift the beginning of the transmission at the beginning of each timeslot (a timeslot is the size of a frame)\n",
        "    if slotted :\n",
        "        total = timeInterval[0]\n",
        "        timeInterval[0] = previous = total // T * T + T\n",
        "        for l in range (1, len(timeInterval)) :\n",
        "            total += timeInterval[l]\n",
        "            temp = total // T * T + T\n",
        "            timeInterval[l] = temp - previous\n",
        "            previous = temp\n",
        "\n",
        "    #for i in range(len(timeInterval)-1):\n",
        "    #We stop after nbFrame have been sent (to avoid quasi infinite loop because of the retransmission)\n",
        "    for i in range(nbFrame):\n",
        "        time += timeInterval[i]\n",
        "        if (i+1) < len(timeInterval) and timeInterval[i+1] < T :\n",
        "            #Then it is a collision (we only count one collision whatever the number of frames that collide)\n",
        "            if not activeCollision :\n",
        "                collision[index] += 1\n",
        "                activeCollision = True\n",
        "        else :\n",
        "            if not activeCollision :\n",
        "                success[index] += 1\n",
        "            activeCollision = False\n",
        "\n",
        "    success[index] = success[index] * T / (time+T)\n",
        "    collision[index] = collision[index] * T / (time+T)\n",
        "    #Index of the success tab.\n",
        "    index += 1\n",
        "\n",
        "if doIPlot :\n",
        "    pl.plot(G, success, 'b')\n",
        "    if plotCollision :\n",
        "        pl.plot(G, collision, 'r')\n",
        "    pl.xlabel('Traffic Load')\n",
        "    pl.ylabel('Network accuracy')\n",
        "    pl.show()\n"
      ]
    },
    {
      "cell_type": "markdown",
      "id": "7718a548",
      "metadata": {},
      "source": [
        "> **Question**\n",
        "> Q27. What is the maximum Network Accuracy observed?"
      ]
    },
    {
      "cell_type": "markdown",
      "id": "95b99001",
      "metadata": {},
      "source": []
    }
  ],
  "metadata": {
    "kernelspec": {
      "display_name": "Pyolite",
      "language": "python",
      "name": "python"
    },
    "language_info": {
      "codemirror_mode": {
        "name": "python",
        "version": 3
      },
      "file_extension": ".py",
      "mimetype": "text/x-python",
      "name": "python",
      "nbconvert_exporter": "python",
      "pygments_lexer": "ipython3",
      "version": "3.8"
    }
  },
  "nbformat": 4,
  "nbformat_minor": 5
}
